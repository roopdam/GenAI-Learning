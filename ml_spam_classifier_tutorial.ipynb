{
 "cells": [
  {
   "cell_type": "markdown",
   "id": "304dc450",
   "metadata": {},
   "source": [
    "# Week 1: ML Spam Classifier - Full Tutorial\n",
    "\n",
    "### 🎯 **Learning Objectives:**\n",
    "- Understand basic text classification\n",
    "- Learn how Naive Bayes works for spam detection\n",
    "- Practice data preprocessing and model evaluation"
   ]
  },
  {
   "cell_type": "markdown",
   "id": "a8da3a7a",
   "metadata": {},
   "source": [
    "### 🔍 What is a Spam Classifier?\n",
    "A spam classifier is a machine learning model trained to distinguish between spam and non-spam (ham) messages. It uses historical labeled messages to learn patterns and predict future ones."
   ]
  },
  {
   "cell_type": "code",
   "execution_count": null,
   "id": "984c45e5",
   "metadata": {},
   "outputs": [],
   "source": [
    "# ✅ Step 1: Install dependencies (if running locally or on new Colab session)\n",
    "!pip install scikit-learn pandas matplotlib"
   ]
  },
  {
   "cell_type": "code",
   "execution_count": null,
   "id": "d877a245",
   "metadata": {},
   "outputs": [],
   "source": [
    "# ✅ Step 2: Import required libraries\n",
    "import pandas as pd\n",
    "from sklearn.model_selection import train_test_split\n",
    "from sklearn.feature_extraction.text import CountVectorizer\n",
    "from sklearn.naive_bayes import MultinomialNB\n",
    "from sklearn.metrics import classification_report"
   ]
  },
  {
   "cell_type": "markdown",
   "id": "087be297",
   "metadata": {},
   "source": [
    "### 📥 Step 3: Create a Sample Dataset\n",
    "This is a toy dataset to simulate SMS messages."
   ]
  },
  {
   "cell_type": "code",
   "execution_count": null,
   "id": "d9289061",
   "metadata": {},
   "outputs": [],
   "source": [
    "data = pd.DataFrame({\n",
    "    'text': [\n",
    "        'Win money now!!!',\n",
    "        'Hi friend, how are you?',\n",
    "        'Earn $1000 per day!!!',\n",
    "        'Can we meet for coffee?',\n",
    "        'You have won a prize!',\n",
    "        'Let’s catch up tomorrow'\n",
    "    ],\n",
    "    'label': [1, 0, 1, 0, 1, 0]  # 1 = spam, 0 = not spam\n",
    "})\n",
    "data"
   ]
  },
  {
   "cell_type": "code",
   "execution_count": null,
   "id": "d36c9533",
   "metadata": {},
   "outputs": [],
   "source": [
    "# ✅ Step 4: Train/Test Split\n",
    "X_train, X_test, y_train, y_test = train_test_split(data['text'], data['label'], test_size=0.3, random_state=42)"
   ]
  },
  {
   "cell_type": "code",
   "execution_count": null,
   "id": "2b30bb51",
   "metadata": {},
   "outputs": [],
   "source": [
    "# ✅ Step 5: Convert Text to Features\n",
    "vectorizer = CountVectorizer()\n",
    "X_train_vec = vectorizer.fit_transform(X_train)\n",
    "X_test_vec = vectorizer.transform(X_test)"
   ]
  },
  {
   "cell_type": "code",
   "execution_count": null,
   "id": "db27128d",
   "metadata": {},
   "outputs": [],
   "source": [
    "# ✅ Step 6: Train a Naive Bayes Classifier\n",
    "model = MultinomialNB()\n",
    "model.fit(X_train_vec, y_train)"
   ]
  },
  {
   "cell_type": "code",
   "execution_count": null,
   "id": "f3eaa0ce",
   "metadata": {},
   "outputs": [],
   "source": [
    "# ✅ Step 7: Evaluate the Model\n",
    "y_pred = model.predict(X_test_vec)\n",
    "print(classification_report(y_test, y_pred))"
   ]
  },
  {
   "cell_type": "markdown",
   "id": "fe5a60da",
   "metadata": {},
   "source": [
    "### 🧪 Exercise: Add Your Own Examples\n",
    "Try adding more spam or ham messages to the dataset and retrain the model."
   ]
  },
  {
   "cell_type": "markdown",
   "id": "31e01101",
   "metadata": {},
   "source": [
    "### ✅ Summary:\n",
    "- You built a basic spam classifier using Naive Bayes.\n",
    "- You learned how to convert text to features using `CountVectorizer`.\n",
    "- You evaluated your model using precision, recall, and F1-score."
   ]
  }
 ],
 "metadata": {},
 "nbformat": 4,
 "nbformat_minor": 5
}