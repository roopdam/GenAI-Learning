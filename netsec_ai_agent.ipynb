
{
  "cells": [
    {
      "cell_type": "markdown",
      "metadata": {},
      "source": [
        "# Week 4: Agentic AI for Network Security\n",
        "Parse logs, analyze threat levels using simple rules, and simulate automated responses."
      ]
    },
    {
      "cell_type": "code",
      "execution_count": null,
      "metadata": {},
      "outputs": [],
      "source": [
        "import pandas as pd\n",
        "\n",
        "# Sample log data (simulated)\n",
        "data = {\n",
        "    'timestamp': ['2025-07-01 10:00:00', '2025-07-01 10:01:00', '2025-07-01 10:02:00'],\n",
        "    'source_ip': ['192.168.1.100', '192.168.1.101', '192.168.1.100'],\n",
        "    'event_type': ['failed_login', 'failed_login', 'failed_login']\n",
        "}\n",
        "logs = pd.DataFrame(data)\n",
        "\n",
        "# Simple threat classification\n",
        "def classify_threat(logs):\n",
        "    ip_counts = logs['source_ip'].value_counts()\n",
        "    threats = {}\n",
        "    for ip, count in ip_counts.items():\n",
        "        if count > 2:\n",
        "            threats[ip] = 'High'\n",
        "        elif count == 2:\n",
        "            threats[ip] = 'Medium'\n",
        "        else:\n",
        "            threats[ip] = 'Low'\n",
        "    return threats\n",
        "\n",
        "threats = classify_threat(logs)\n",
        "print('Threat levels:')\n",
        "for ip, level in threats.items():\n",
        "    print(f'{ip}: {level}')\n",
        "\n",
        "# Simulated automated actions\n",
        "def automated_response(threats):\n",
        "    for ip, level in threats.items():\n",
        "        if level == 'High':\n",
        "            print(f'Blocking IP {ip}')\n",
        "        elif level == 'Medium':\n",
        "            print(f'Opening ticket for {ip}')\n",
        "        else:\n",
        "            print(f'Logging low risk activity from {ip}')\n",
        "\n",
        "automated_response(threats)"
      ]
    }
  ],
  "metadata": {
    "colab": {
      "name": "netsec_ai_agent.ipynb"
    },
    "kernelspec": {
      "display_name": "Python 3",
      "language": "python",
      "name": "python3"
    },
    "language_info": {
      "name": "python"
    }
  },
  "nbformat": 4,
  "nbformat_minor": 5
}
