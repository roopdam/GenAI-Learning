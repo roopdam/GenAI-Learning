
{
  "cells": [
    {
      "cell_type": "markdown",
      "metadata": {},
      "source": [
        "# Week 3: GenAI + Vector DB (RAG Pipeline)\n",
        "Generate embeddings from documents and implement a simple RAG pipeline."
      ]
    },
    {
      "cell_type": "code",
      "execution_count": null,
      "metadata": {},
      "outputs": [],
      "source": [
        "# Install dependencies\n",
        "!pip install sentence-transformers faiss-cpu"
      ]
    },
    {
      "cell_type": "code",
      "execution_count": null,
      "metadata": {},
      "outputs": [],
      "source": [
        "from sentence_transformers import SentenceTransformer\n",
        "import faiss\n",
        "import numpy as np\n",
        "\n",
        "# Sample documents\n",
        "documents = [\n",
        "    'Network security is critical to protect data.',\n",
        "    'Firewalls monitor incoming and outgoing traffic.',\n",
        "    'Anomaly detection helps in finding unusual activities.',\n",
        "    'Intrusion detection systems generate alerts on suspicious behavior.'\n",
        "]\n",
        "\n",
        "# Initialize model\n",
        "model = SentenceTransformer('all-MiniLM-L6-v2')\n",
        "\n",
        "# Generate embeddings\n",
        "embeddings = model.encode(documents)\n",
        "\n",
        "# Build FAISS index\n",
        "dimension = embeddings.shape[1]\n",
        "index = faiss.IndexFlatL2(dimension)\n",
        "index.add(embeddings)\n",
        "\n",
        "# Query example\n",
        "query = 'How to detect network intrusions?'
",
        "query_vec = model.encode([query])\n",
        "D, I = index.search(query_vec, k=2)
",
        "print('Top matches:')
",
        "for i in I[0]:
",
        "    print('-', documents[i])"
      ]
    }
  ],
  "metadata": {
    "colab": {
      "name": "rag_doc_bot.ipynb"
    },
    "kernelspec": {
      "display_name": "Python 3",
      "language": "python",
      "name": "python3"
    },
    "language_info": {
      "name": "python"
    }
  },
  "nbformat": 4,
  "nbformat_minor": 5
}
