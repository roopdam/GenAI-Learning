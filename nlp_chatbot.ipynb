
{
  "cells": [
    {
      "cell_type": "markdown",
      "metadata": {},
      "source": [
        "# Week 2: Simple NLP Chatbot\n",
        "Simulate a chatbot that answers from predefined FAQs using OpenAI-like prompting."
      ]
    },
    {
      "cell_type": "code",
      "execution_count": null,
      "metadata": {},
      "outputs": [],
      "source": [
        "# Sample FAQ-based prompt handling\n",
        "faq = {\n",
        "    'What is your name?': 'I am your assistant.',\n",
        "    'How can I reset my password?': 'Click on Forgot Password at login.',\n",
        "    'What are your support hours?': 'Support is available 24/7.'\n",
        "}\n",
        "\n",
        "def chatbot(query):\n",
        "    for question in faq:\n",
        "        if question.lower() in query.lower():\n",
        "            return faq[question]\n",
        "    return 'I am sorry, I do not understand that question.'\n",
        "\n",
        "# Test\n",
        "print(chatbot('how can I reset my password'))\n",
        "print(chatbot('Tell me your support hours'))\n",
        "print(chatbot('Who are you?'))"
      ]
    }
  ],
  "metadata": {
    "colab": {
      "name": "nlp_chatbot.ipynb"
    },
    "kernelspec": {
      "display_name": "Python 3",
      "language": "python",
      "name": "python3"
    },
    "language_info": {
      "name": "python"
    }
  },
  "nbformat": 4,
  "nbformat_minor": 5
}
